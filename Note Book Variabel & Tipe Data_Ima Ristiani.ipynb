{
  "nbformat": 4,
  "nbformat_minor": 0,
  "metadata": {
    "colab": {
      "name": "Note Book Variabel & Tipe Data - Ima Ristiani.ipynb",
      "provenance": [],
      "toc_visible": true
    },
    "kernelspec": {
      "name": "python3",
      "display_name": "Python 3"
    },
    "language_info": {
      "name": "python"
    }
  },
  "cells": [
    {
      "cell_type": "markdown",
      "metadata": {
        "id": "0_kWYEUdc88y"
      },
      "source": [
        "**NAMA : IMA RISTIANI**\n",
        "\n",
        "**NIM : 2000015027**\n",
        "\n",
        "**PRODI : MATEMATIKA**"
      ]
    },
    {
      "cell_type": "markdown",
      "metadata": {
        "id": "r9clQPgqZoG9"
      },
      "source": [
        "##Variabel"
      ]
    },
    {
      "cell_type": "markdown",
      "metadata": {
        "id": "dPqfczGEZ8Uk"
      },
      "source": [
        "###Variabel"
      ]
    },
    {
      "cell_type": "markdown",
      "metadata": {
        "id": "TVythF5maBvA"
      },
      "source": [
        "Variables : Lokasi penyimpanan yang dapat digunakan untuk menampung sebuah data atau informasi.\n",
        "\n",
        "Syarat-syarat penamaan variabel:\n",
        "1. Karakter-karakter yang digunakan untuk penamaan variabel adalah alphabet, angka dan underscore.\n",
        "2. Karakter pertama variabel harus berupa huruf atau garis bawah/underscore, dan tidak bisa berupa angka.\n",
        "3. Nama sebuah variabel tidak bisa menggunakan keyword atau reserved words dari bahasa python seperti for, if, dan lainnya.\n",
        "4. Karakter pada nama variabel bersifat sensitif (case-sensitif).\n",
        "\n"
      ]
    },
    {
      "cell_type": "code",
      "metadata": {
        "colab": {
          "base_uri": "https://localhost:8080/"
        },
        "id": "fKr_VlAsRTyp",
        "outputId": "e46e832b-ce5d-4ebf-c542-444c14df2fd8"
      },
      "source": [
        "# membuat variabel\n",
        "kalimat = 'ini adalah variabel'\n",
        "bilangan1 = 4\n",
        "bilangan2 = 2.5\n",
        "bilangan3 = True\n",
        "bilangan4 = 1j + 4\n",
        "\n",
        "# menampilkan variabel\n",
        "print(kalimat)\n",
        "print(bilangan1)\n",
        "print(bilangan2)"
      ],
      "execution_count": 1,
      "outputs": [
        {
          "output_type": "stream",
          "name": "stdout",
          "text": [
            "ini adalah variabel\n",
            "4\n",
            "2.5\n"
          ]
        }
      ]
    },
    {
      "cell_type": "markdown",
      "metadata": {
        "id": "XkpzLvs2bhjX"
      },
      "source": [
        "###Tipe Data"
      ]
    },
    {
      "cell_type": "markdown",
      "metadata": {
        "id": "xQffNESMbjuB"
      },
      "source": [
        "5 tipe data, yaitu:\n",
        "\n",
        "1. Integer atau bilangan bulat\n",
        "2. Float atau bilangan desimal\n",
        "3. String atau kalimat\n",
        "4. Boolean yang terdiri dari True dan False\n",
        "5. Complex yang merupakan bilangan kompleks\n",
        "\n"
      ]
    },
    {
      "cell_type": "code",
      "metadata": {
        "colab": {
          "base_uri": "https://localhost:8080/"
        },
        "id": "eXU0C2ZiZJTf",
        "outputId": "7088895c-f9b0-4880-e45d-4e6350cea1d8"
      },
      "source": [
        "# menampilkan tipe data\n",
        "print(type(kalimat))\n",
        "print(type(bilangan1))\n",
        "print(type(bilangan2))\n",
        "print(type(bilangan3))\n",
        "print(type(bilangan4))"
      ],
      "execution_count": 7,
      "outputs": [
        {
          "output_type": "stream",
          "name": "stdout",
          "text": [
            "<class 'str'>\n",
            "<class 'int'>\n",
            "<class 'float'>\n",
            "<class 'bool'>\n",
            "<class 'complex'>\n"
          ]
        }
      ]
    },
    {
      "cell_type": "markdown",
      "metadata": {
        "id": "xexw_hUVcExw"
      },
      "source": [
        "###Konversi Tipe Data"
      ]
    },
    {
      "cell_type": "markdown",
      "metadata": {
        "id": "ovYKP91JcHwn"
      },
      "source": [
        "Syntax konversi tipe data:\n",
        "\n",
        "1. Integer = `int()`\n",
        "2. Float = `float()`\n",
        "3. String = `str()`\n",
        "4. Boolean = `bool()`\n",
        "5. Complex = `complex()`\n",
        "\n"
      ]
    },
    {
      "cell_type": "code",
      "metadata": {
        "colab": {
          "base_uri": "https://localhost:8080/"
        },
        "id": "7xJnZ5fdT4Ur",
        "outputId": "a88508ca-99b7-4445-c747-c3f05d3c9351"
      },
      "source": [
        "# konversi tipe data integer\n",
        "print(int(bilangan2))\n",
        "print(int(bilangan3))"
      ],
      "execution_count": 3,
      "outputs": [
        {
          "output_type": "stream",
          "name": "stdout",
          "text": [
            "2\n",
            "1\n"
          ]
        }
      ]
    },
    {
      "cell_type": "code",
      "metadata": {
        "colab": {
          "base_uri": "https://localhost:8080/"
        },
        "id": "mAlQ7GP2Sv6L",
        "outputId": "98e6e748-6361-4c15-86ea-14eda4354568"
      },
      "source": [
        "# konversi tipe data float\n",
        "print(float(bilangan1))\n",
        "print(float(bilangan3))"
      ],
      "execution_count": 2,
      "outputs": [
        {
          "output_type": "stream",
          "name": "stdout",
          "text": [
            "4.0\n",
            "1.0\n"
          ]
        }
      ]
    },
    {
      "cell_type": "code",
      "metadata": {
        "colab": {
          "base_uri": "https://localhost:8080/"
        },
        "id": "7oTrAorZYldO",
        "outputId": "ca8294c2-acd8-4bae-eab4-31d259a66071"
      },
      "source": [
        "# konversi tipe data string\n",
        "print(str(bilangan1))\n",
        "print(str(bilangan2))\n",
        "print(str(bilangan3))"
      ],
      "execution_count": 6,
      "outputs": [
        {
          "output_type": "stream",
          "name": "stdout",
          "text": [
            "4\n",
            "2.5\n",
            "True\n"
          ]
        }
      ]
    },
    {
      "cell_type": "code",
      "metadata": {
        "colab": {
          "base_uri": "https://localhost:8080/"
        },
        "id": "w52ybfOhXVeV",
        "outputId": "0c00640d-7839-4581-ff24-10568f5a7936"
      },
      "source": [
        "# konversi tipe data bool\n",
        "print(bool(bilangan1))\n",
        "print(bool(bilangan2))"
      ],
      "execution_count": 5,
      "outputs": [
        {
          "output_type": "stream",
          "name": "stdout",
          "text": [
            "True\n",
            "True\n"
          ]
        }
      ]
    },
    {
      "cell_type": "code",
      "metadata": {
        "colab": {
          "base_uri": "https://localhost:8080/"
        },
        "id": "huPvZXLEUQyD",
        "outputId": "91ccaf31-617a-4f73-d679-982fecdfd173"
      },
      "source": [
        "# konversi tipe data complex\n",
        "print(complex(bilangan1))\n",
        "print(complex(bilangan2))\n",
        "print(complex(bilangan3))"
      ],
      "execution_count": 4,
      "outputs": [
        {
          "output_type": "stream",
          "name": "stdout",
          "text": [
            "(4+0j)\n",
            "(2.5+0j)\n",
            "(1+0j)\n"
          ]
        }
      ]
    }
  ]
}